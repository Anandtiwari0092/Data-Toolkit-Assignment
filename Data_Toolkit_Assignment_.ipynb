{
  "nbformat": 4,
  "nbformat_minor": 0,
  "metadata": {
    "colab": {
      "provenance": []
    },
    "kernelspec": {
      "name": "python3",
      "display_name": "Python 3"
    },
    "language_info": {
      "name": "python"
    }
  },
  "cells": [
    {
      "cell_type": "markdown",
      "source": [
        "1. What is NumPy, and why is it widely used in Python ?"
      ],
      "metadata": {
        "id": "lVlg8F9T9b-t"
      }
    },
    {
      "cell_type": "code",
      "source": [
        "'''NumPy is a powerful open-source library in Python that is used for numerical and scientific computing.\n",
        "it provides support for working with large, multi-dimensional arrays and matrices, along with a collection of mathematical functions to operate on these arrays efficiently.\n",
        "NumPy arrays are more compact, faster, and support element-wise operations, which makes them ideal for handling large volumes of numerical data.\n",
        "\n",
        "Why NumPy is widely used:\n",
        "- NumPy is implemented in C, making it much faster, especially for large datasets.\n",
        "- NumPy arrays use less memory than standard Python lists.\n",
        "- you can perform arithmetic and statistical calculations on entire arrays without writing explicit loops.\n",
        "- NumPy can perform operations on arrays of different shapes and sizes intelligently, which simplifies coding and improves performance.\n",
        "- It is widely used in data science, machine learning, and scientific computing. Libraries like Pandas, SciPy, Matplotlib, TensorFlow, and Scikit-learn are built on top of NumPy or rely heavily on it'''\n"
      ],
      "metadata": {
        "id": "MPFaJIU_ADqU"
      },
      "execution_count": null,
      "outputs": []
    },
    {
      "cell_type": "markdown",
      "source": [
        "2.  How does broadcasting work in NumPy ?"
      ],
      "metadata": {
        "id": "DRzWiadsCHV7"
      }
    },
    {
      "cell_type": "code",
      "source": [
        "'''Broadcasting allows arrays of different shapes to be used in arithmetic operations together.\n",
        "When performing operations between two arrays, NumPy automatically \"broadcasts\" the smaller array across the larger one so that they have compatible shapes.\n",
        "\n",
        "Broadcasting follows a set of rules to compare the shapes of the arrays:\n",
        "\n",
        "- If the arrays have different numbers of dimensions, the shape of the smaller array is padded with ones on the left.\n",
        "- If the shape of the two arrays in a dimension is equal, or one of them is 1, then the arrays are compatible in that dimension.\n",
        "- If the shapes are not compatible, a broadcasting error is raised.'''"
      ],
      "metadata": {
        "id": "VY5q9NaNJ5-i"
      },
      "execution_count": null,
      "outputs": []
    },
    {
      "cell_type": "markdown",
      "source": [
        "3.  What is a Pandas DataFrame ?"
      ],
      "metadata": {
        "id": "T4h0EpteTTo3"
      }
    },
    {
      "cell_type": "code",
      "source": [
        "# A Pandas DataFrame is a two-dimensional, labeled data structure in Python, similar to a table or spreadsheet.\n",
        "# It is part of the Pandas library, which is widely used for data analysis and manipulation.\n",
        "\n",
        "# A DataFrame allows you to store and work with data in rows and columns, where:-\n",
        "# Rows represent individual records or entries\n",
        "# Columns represent features or attributes of the data"
      ],
      "metadata": {
        "id": "BuTclvggT7mP"
      },
      "execution_count": null,
      "outputs": []
    },
    {
      "cell_type": "markdown",
      "source": [
        "4.  Explain the use of the groupby() method in Pandas ?"
      ],
      "metadata": {
        "id": "FNk7AWwkUunC"
      }
    },
    {
      "cell_type": "code",
      "source": [
        "# The groupby() method in Pandas is used to group data based on one or more columns and then apply a function (like sum, mean, count, etc.) to each group.\n",
        "# This is especially useful for analyzing and summarizing large datasets.\n",
        "\n",
        "# It follows the concept of \"Split → Apply → Combine\":\n",
        "# Split the data into groups.\n",
        "# Apply a function to each group.\n",
        "# Combine the results into a new DataFrame or Series."
      ],
      "metadata": {
        "id": "2cbkItC3UDfH"
      },
      "execution_count": null,
      "outputs": []
    },
    {
      "cell_type": "markdown",
      "source": [
        "5.  Why is Seaborn preferred for statistical visualizations ?"
      ],
      "metadata": {
        "id": "Hm-S3m7-X29d"
      }
    },
    {
      "cell_type": "code",
      "source": [
        "# Seaborn is preferred for statistical visualizations because it offers simple, high-level functions to create attractive and informative charts.\n",
        "# It integrates well with Pandas, supports complex statistical plots, and applies beautiful default styles, making data analysis easier and more effective with less code compared to Matplotlib."
      ],
      "metadata": {
        "id": "K0SoXDglYITd"
      },
      "execution_count": null,
      "outputs": []
    },
    {
      "cell_type": "markdown",
      "source": [
        "6. What are the differences between NumPy arrays and Python lists ?"
      ],
      "metadata": {
        "id": "xwlI05TDZIey"
      }
    },
    {
      "cell_type": "code",
      "source": [
        "# NumPy arrays are more efficient for numerical operations as they use less memory and support vectorized operations, making computations faster.\n",
        "# Unlike Python lists, NumPy arrays allow only one data type and are better suited for scientific and mathematical tasks."
      ],
      "metadata": {
        "id": "s_GbV9XiZZ2b"
      },
      "execution_count": null,
      "outputs": []
    },
    {
      "cell_type": "markdown",
      "source": [
        "7. What is a heatmap, and when should it be used ?"
      ],
      "metadata": {
        "id": "xcWY8tpQZkF2"
      }
    },
    {
      "cell_type": "code",
      "source": [
        "# A heatmap is a graphical representation of data where individual values are shown using varying colors.\n",
        "# It helps visualize the magnitude of values across two dimensions, making it easy to identify patterns, correlations, or anomalies in a dataset.\n",
        "# Heatmaps are commonly used to display correlation matrices, frequency tables, or performance comparisons, especially when working with large numerical datasets."
      ],
      "metadata": {
        "id": "5blVi0pEkcS3"
      },
      "execution_count": null,
      "outputs": []
    },
    {
      "cell_type": "markdown",
      "source": [
        "8. What does the term “vectorized operation” mean in NumPy ?"
      ],
      "metadata": {
        "id": "t-16Rd1jkyJU"
      }
    },
    {
      "cell_type": "code",
      "source": [
        "# A “vectorized operation” in NumPy refers to performing operations on entire arrays without using explicit loops.\n",
        "# Instead of processing elements one by one, NumPy applies operations like addition, multiplication, or comparison to all elements at once internally using optimized C code.\n",
        "# This makes the code faster, shorter, and more efficient, especially for large datasets."
      ],
      "metadata": {
        "id": "FBzYxp77k3e9"
      },
      "execution_count": null,
      "outputs": []
    },
    {
      "cell_type": "markdown",
      "source": [
        "9. How does Matplotlib differ from Plotly ?"
      ],
      "metadata": {
        "id": "JWrNKgAOlMRZ"
      }
    },
    {
      "cell_type": "code",
      "source": [
        "# Matplotlib and Plotly are both Python libraries used for data visualization, but they differ in functionality and usage.\n",
        "\n",
        "# Matplotlib is mainly used for creating static, 2D plots like line charts, bar graphs, and histograms.\n",
        "# It offers full control over plot customization and is suitable for traditional data analysis and publication-ready plots.\n",
        "\n",
        "# Plotly, on the other hand, is designed for interactive, web-based visualizations.\n",
        "# It supports features like zooming, tooltips, and clickable legends, and can create complex charts like 3D plots and dashboards with ease."
      ],
      "metadata": {
        "id": "nRIZrqThlXeb"
      },
      "execution_count": null,
      "outputs": []
    },
    {
      "cell_type": "markdown",
      "source": [
        "10. What is the significance of hierarchical indexing in Pandas ?"
      ],
      "metadata": {
        "id": "oFSnYmKhlvy4"
      }
    },
    {
      "cell_type": "code",
      "source": [
        "# Hierarchical indexing in Pandas (also known as MultiIndex) allows you to have multiple index levels on rows or columns.\n",
        "# This enables you to work with higher-dimensional data in a 2D DataFrame, making it easier to represent and analyze complex datasets."
      ],
      "metadata": {
        "id": "egh4CTOPl5I0"
      },
      "execution_count": null,
      "outputs": []
    },
    {
      "cell_type": "markdown",
      "source": [
        "11. A What is the role of Seaborn’s pairplot() function ?"
      ],
      "metadata": {
        "id": "HuDMIY22mJEB"
      }
    },
    {
      "cell_type": "code",
      "source": [
        "# The pairplot() function in Seaborn is used to create a grid of scatter plots for all possible pairs of numerical features in a dataset.\n",
        "# It also includes histograms or KDE plots on the diagonal to show individual feature distributions.\n",
        "# This function is helpful for visualizing relationships, trends, and correlations between multiple variables, making it a useful tool for exploratory data analysis.\n"
      ],
      "metadata": {
        "id": "dG9JyCVmmUUr"
      },
      "execution_count": null,
      "outputs": []
    },
    {
      "cell_type": "markdown",
      "source": [
        "12. What is the purpose of the describe() function in Pandas"
      ],
      "metadata": {
        "id": "evmXg4tLvPDi"
      }
    },
    {
      "cell_type": "code",
      "source": [
        "# The describe() function in Pandas is used to generate summary statistics of a DataFrame or Series.\n",
        "# it provides important metrics such as count, mean, standard deviation, minimum, 25th percentile, median (50%), 75th percentile, and maximum for each numeric column.\n",
        "# This helps in quickly understanding the central tendency, spread, and shape of the data, making it a valuable tool for initial data exploration."
      ],
      "metadata": {
        "id": "pDc2zLBvvWzI"
      },
      "execution_count": null,
      "outputs": []
    },
    {
      "cell_type": "markdown",
      "source": [
        "13. Why is handling missing data important in Pandas ?"
      ],
      "metadata": {
        "id": "XyXCR0-IvhOy"
      }
    },
    {
      "cell_type": "code",
      "source": [
        "# Handling missing data in Pandas is important because missing values can lead to inaccurate analysis, biased results, or errors in computations.\n",
        "# Many operations, like mean or correlation, ignore or misinterpret missing values, affecting data quality.\n",
        "# Proper handling—by filling, removing, or imputing missing data—ensures that the dataset remains clean, reliable, and suitable for analysis or modeling.\n"
      ],
      "metadata": {
        "id": "_ZDS97WdGc_m"
      },
      "execution_count": null,
      "outputs": []
    },
    {
      "cell_type": "markdown",
      "source": [
        "14. What are the benefits of using Plotly for data visualization"
      ],
      "metadata": {
        "id": "h22y5cijHkg2"
      }
    },
    {
      "cell_type": "code",
      "source": [
        "#  It allows the creation of interactive and dynamic charts that users can zoom, hover over, and explore easily.\n",
        "#  Plotly supports a wide range of visualizations, including 2D, 3D, and animated plots, with high-quality visuals.\n",
        "#  It is user-friendly, integrates well with web applications, and helps make data presentations more engaging and informative compared to static charts."
      ],
      "metadata": {
        "id": "h1LbI4IyHstp"
      },
      "execution_count": null,
      "outputs": []
    },
    {
      "cell_type": "markdown",
      "source": [
        "15. How does NumPy handle multidimensional arrays"
      ],
      "metadata": {
        "id": "UfjiwO2B1jYO"
      }
    },
    {
      "cell_type": "code",
      "source": [
        "# It allows storing and manipulating data in multiple dimensions, such as 2D (matrices), 3D (cubes), or higher.\n",
        "# Each array has attributes like shape, size, and dtype, making it efficient for mathematical operations.\n",
        "# NumPy provides built-in functions to reshape, slice, iterate, and perform vectorized operations across any number of dimensions, making it powerful for scientific and numerical computing."
      ],
      "metadata": {
        "id": "ZlkVAwDy1oAx"
      },
      "execution_count": null,
      "outputs": []
    },
    {
      "cell_type": "markdown",
      "source": [
        "16. What is the role of Bokeh in data visualization"
      ],
      "metadata": {
        "id": "uuc2GULe1yz8"
      }
    },
    {
      "cell_type": "code",
      "source": [
        "# Its main role is to help developers build dynamic, real-time, and customizable charts such as line plots, bar charts, heatmaps, and dashboards\n",
        "# Bokeh supports high-performance rendering and allows integration with web technologies like HTML, JavaScript, and Flask.\n",
        "# It is especially useful for creating interactive visual analytics tools directly in the browser without needing manual coding in JavaScript."
      ],
      "metadata": {
        "id": "fFVlgITp13GJ"
      },
      "execution_count": null,
      "outputs": []
    },
    {
      "cell_type": "markdown",
      "source": [
        "17. Explain the difference between apply() and map() in PandasA."
      ],
      "metadata": {
        "id": "ThCbC9892Bxg"
      }
    },
    {
      "cell_type": "code",
      "source": [
        "# Use map() for simple element-wise operations on a single column.\n",
        "\n",
        "# Use apply() for row/column-wise operations and complex logic."
      ],
      "metadata": {
        "id": "ja8_Zais2IH6"
      },
      "execution_count": null,
      "outputs": []
    },
    {
      "cell_type": "markdown",
      "source": [
        "18. What are some advanced features of NumPy ?"
      ],
      "metadata": {
        "id": "qMXrZPE_2PUp"
      }
    },
    {
      "cell_type": "code",
      "source": [
        "# NumPy offers several advanced features that make it powerful for numerical and scientific computing:\n",
        "\n",
        "#     Broadcasting – Enables operations on arrays of different shapes without writing explicit loops.\n",
        "\n",
        "#     Vectorized operations – Performs fast, element-wise operations without for-loops.\n",
        "\n",
        "#     Multidimensional arrays (ndarray) – Handles complex data in multiple dimensions efficiently.\n",
        "\n",
        "#     Linear algebra functions – Supports matrix multiplication, eigenvalues, inverses, and more.\n",
        "\n",
        "#     Fourier transforms – Performs fast Fourier analysis for signal processing.\n",
        "\n",
        "#     Random number generation – Includes tools for simulations, sampling, and probability distributions.\n",
        "\n",
        "#     Masked arrays – Handles invalid or missing data in arrays.\n",
        "\n",
        "#     Memory mapping of large files – Efficiently reads large datasets that don’t fit in memory."
      ],
      "metadata": {
        "id": "IQAbRZMd2XGz"
      },
      "execution_count": null,
      "outputs": []
    },
    {
      "cell_type": "markdown",
      "source": [
        "19.  How does Pandas simplify time series analysis ?"
      ],
      "metadata": {
        "id": "wj_1CJg92Y-_"
      }
    },
    {
      "cell_type": "code",
      "source": [
        "# It supports datetime indexing, which allows easy resampling, frequency conversion, time shifting, and window-based operations.\n",
        "# With Pandas, users can parse dates automatically, filter data by date ranges, and perform rolling statistics like moving averages.\n",
        "# This makes tasks like trend analysis, seasonality detection, and forecasting more convenient and efficient."
      ],
      "metadata": {
        "id": "tgaQ2xj-2drw"
      },
      "execution_count": null,
      "outputs": []
    },
    {
      "cell_type": "markdown",
      "source": [
        "20. What is the role of a pivot table in Pandas?"
      ],
      "metadata": {
        "id": "d6jW1fJKuJPe"
      }
    },
    {
      "cell_type": "code",
      "source": [
        "# Role of a Pivot Table in Pandas:\n",
        "# 1.   Data summarization: Quickly group and aggregate data.\n",
        "# 2.   Data analysis: Helps in comparing subsets of data.\n",
        "# 3.   Data transformation: Converts long-format data into wide-format.\n",
        "# 4.   Insight extraction: Makes it easier to identify patterns, trends, and insights."
      ],
      "metadata": {
        "id": "Xp7bfVwUuRoo"
      },
      "execution_count": null,
      "outputs": []
    },
    {
      "cell_type": "markdown",
      "source": [
        "21. Why is NumPy’s array slicing faster than Python’s list slicing ?"
      ],
      "metadata": {
        "id": "3K4k1VlFurZ5"
      }
    },
    {
      "cell_type": "code",
      "source": [
        "# NumPy’s array slicing is faster than Python’s list slicing because NumPy arrays use contiguous memory and contain elements of the same data type, allowing faster access and manipulation.\n",
        "# They are optimized with low-level C and Fortran implementations, which avoid the overhead of Python’s dynamic typing and object handling. This results in more efficient slicing and data processing."
      ],
      "metadata": {
        "id": "ptQfikaFu7xy"
      },
      "execution_count": null,
      "outputs": []
    },
    {
      "cell_type": "markdown",
      "source": [
        "22.  What are some common use cases for Seaborn?"
      ],
      "metadata": {
        "id": "8CugJwquvNbU"
      }
    },
    {
      "cell_type": "code",
      "source": [
        "# it simplifies the process of making plots and improves visual aesthetics.\n",
        "# Common use cases include visualizing relationships between variables, exploring data distributions, comparing categorical data, analyzing correlations with heatmaps, and performing exploratory data analysis.\n",
        "# It provides built-in themes, color palettes, and high-level functions to generate informative and attractive visualizations easily."
      ],
      "metadata": {
        "id": "uK1HzeUNvSP1"
      },
      "execution_count": null,
      "outputs": []
    },
    {
      "cell_type": "markdown",
      "source": [
        "# Practicle Questions.....\n"
      ],
      "metadata": {
        "id": "NcyhrJSRwZ3d"
      }
    },
    {
      "cell_type": "markdown",
      "source": [
        "1. How do you create a 2D NumPy array and calculate the sum of each row"
      ],
      "metadata": {
        "id": "uUPe6vKYwgU0"
      }
    },
    {
      "cell_type": "code",
      "source": [
        "import numpy as np\n",
        "\n",
        "# Create a 2D NumPy array\n",
        "array_2d = np.array([[1, 2, 3],\n",
        "                     [4, 5, 6],\n",
        "                     [7, 8, 9]])\n",
        "\n",
        "# Calculate the sum of each row\n",
        "row_sums = np.sum(array_2d, axis=1)\n",
        "\n",
        "# Print the result\n",
        "print(\"2D Array:\")\n",
        "print(array_2d)\n",
        "print(\"Sum of each row:\", row_sums)"
      ],
      "metadata": {
        "colab": {
          "base_uri": "https://localhost:8080/"
        },
        "id": "wvjB_03qwmOp",
        "outputId": "b2630565-e86a-403b-be1f-2b6271d3820c"
      },
      "execution_count": 1,
      "outputs": [
        {
          "output_type": "stream",
          "name": "stdout",
          "text": [
            "2D Array:\n",
            "[[1 2 3]\n",
            " [4 5 6]\n",
            " [7 8 9]]\n",
            "Sum of each row: [ 6 15 24]\n"
          ]
        }
      ]
    },
    {
      "cell_type": "markdown",
      "source": [
        "2.  Write a Pandas script to find the mean of a specific column in a DataFrameA"
      ],
      "metadata": {
        "id": "rZXSqbC-xLr_"
      }
    },
    {
      "cell_type": "code",
      "source": [
        "import pandas as pd\n",
        "\n",
        "# Example DataFrame\n",
        "data = {\n",
        "    'Name': ['Alice', 'Bob', 'Charlie', 'David'],\n",
        "    'Age': [25, 30, 35, 40],\n",
        "    'Salary': [50000, 60000, 55000, 65000]\n",
        "}\n",
        "\n",
        "DataFrameA = pd.DataFrame(data)\n",
        "\n",
        "# Find the mean of a specific column (e.g., 'Age')\n",
        "mean_age = DataFrameA['Age'].mean()\n",
        "\n",
        "print(\"Mean Age:\", mean_age)"
      ],
      "metadata": {
        "id": "7VGiRKf6x0PK"
      },
      "execution_count": null,
      "outputs": []
    },
    {
      "cell_type": "markdown",
      "source": [
        "3.  Create a scatter plot using MatplotlibA"
      ],
      "metadata": {
        "id": "ts-uhN8PyfAC"
      }
    },
    {
      "cell_type": "code",
      "source": [
        "import pandas as pd\n",
        "import matplotlib.pyplot as plt\n",
        "\n",
        "# Sample data\n",
        "data = {\n",
        "    'Age': [25, 30, 35, 40, 45],\n",
        "    'Salary': [50000, 60000, 55000, 65000, 70000]\n",
        "}\n",
        "\n",
        "DataFrameA = pd.DataFrame(data)\n",
        "\n",
        "# Create scatter plot\n",
        "plt.figure(figsize=(8, 5))\n",
        "plt.scatter(DataFrameA['Age'], DataFrameA['Salary'], color='blue', marker='o')\n",
        "\n",
        "# Add labels and title\n",
        "plt.xlabel('Age')\n",
        "plt.ylabel('Salary')\n",
        "plt.title('Age vs. Salary Scatter Plot')\n",
        "\n",
        "# Show grid\n",
        "plt.grid(True)\n",
        "\n",
        "# Display plot\n",
        "plt.show()\n"
      ],
      "metadata": {
        "id": "aJqAU68Uyl0z"
      },
      "execution_count": null,
      "outputs": []
    },
    {
      "cell_type": "markdown",
      "source": [
        "4.  How do you calculate the correlation matrix using Seaborn and visualize it with a heatmap?"
      ],
      "metadata": {
        "id": "H5_mMIVIyrxZ"
      }
    },
    {
      "cell_type": "code",
      "source": [
        "import pandas as pd\n",
        "import seaborn as sns\n",
        "import matplotlib.pyplot as plt\n",
        "\n",
        "# Sample DataFrame\n",
        "data = {\n",
        "    'Age': [25, 30, 35, 40, 45],\n",
        "    'Salary': [50000, 60000, 55000, 65000, 70000],\n",
        "    'Experience': [1, 5, 7, 10, 12]\n",
        "}\n",
        "\n",
        "df = pd.DataFrame(data)\n",
        "\n",
        "# Calculate the correlation matrix\n",
        "corr_matrix = df.corr()\n",
        "\n",
        "# Display the correlation matrix using a heatmap\n",
        "plt.figure(figsize=(8, 6))\n",
        "sns.heatmap(corr_matrix, annot=True, cmap='coolwarm', linewidths=0.5)\n",
        "plt.title(\"Correlation Matrix Heatmap\")\n",
        "plt.show()"
      ],
      "metadata": {
        "id": "7cGXXT8byxDE"
      },
      "execution_count": null,
      "outputs": []
    },
    {
      "cell_type": "markdown",
      "source": [
        "5. Generate a bar plot using Plotly."
      ],
      "metadata": {
        "id": "tNWajkeNy5-B"
      }
    },
    {
      "cell_type": "code",
      "source": [
        "import pandas as pd\n",
        "import plotly.express as px\n",
        "\n",
        "# Sample data\n",
        "data = {\n",
        "    'Department': ['HR', 'Finance', 'IT', 'Marketing'],\n",
        "    'Employees': [10, 15, 30, 25]\n",
        "}\n",
        "\n",
        "DataFrameA = pd.DataFrame(data)\n",
        "\n",
        "# Create bar plot\n",
        "fig = px.bar(DataFrameA, x='Department', y='Employees', title='Number of Employees by Department',\n",
        "             color='Department', text='Employees')\n",
        "\n",
        "# Show plot\n",
        "fig.show()"
      ],
      "metadata": {
        "id": "LfY3Gxk30Bux"
      },
      "execution_count": null,
      "outputs": []
    },
    {
      "cell_type": "markdown",
      "source": [
        "6. Create a DataFrame and add a new column based on an existing column"
      ],
      "metadata": {
        "id": "udJrHWrP0EWw"
      }
    },
    {
      "cell_type": "code",
      "source": [
        "import pandas as pd\n",
        "\n",
        "# Create the initial DataFrame\n",
        "data = {\n",
        "    'Name': ['Alice', 'Bob', 'Charlie', 'David'],\n",
        "    'Salary': [50000, 60000, 55000, 70000]\n",
        "}\n",
        "\n",
        "df = pd.DataFrame(data)\n",
        "\n",
        "# Add a new column based on the existing 'Salary' column\n",
        "# For example: Calculate 10% bonus\n",
        "df['Bonus'] = df['Salary'] * 0.10\n",
        "\n",
        "print(df)"
      ],
      "metadata": {
        "id": "sKSQ6REb0JNY"
      },
      "execution_count": null,
      "outputs": []
    },
    {
      "cell_type": "markdown",
      "source": [
        "7.  Write a program to perform element-wise multiplication of two NumPy arrays"
      ],
      "metadata": {
        "id": "nZ_HjsBc0Nox"
      }
    },
    {
      "cell_type": "code",
      "source": [
        "import numpy as np\n",
        "\n",
        "# Create two NumPy arrays\n",
        "array1 = np.array([1, 2, 3, 4])\n",
        "array2 = np.array([5, 6, 7, 8])\n",
        "\n",
        "# Perform element-wise multiplication\n",
        "result = array1 * array2\n",
        "\n",
        "# Display the result\n",
        "print(\"Array 1:\", array1)\n",
        "print(\"Array 2:\", array2)\n",
        "print(\"Element-wise multiplication:\", result)"
      ],
      "metadata": {
        "id": "_R5FG0vq0Seq"
      },
      "execution_count": null,
      "outputs": []
    },
    {
      "cell_type": "markdown",
      "source": [
        "8. Create a line plot with multiple lines using Matplotlib"
      ],
      "metadata": {
        "id": "5efdTtHh0VCS"
      }
    },
    {
      "cell_type": "code",
      "source": [
        "import matplotlib.pyplot as plt\n",
        "\n",
        "# Sample data\n",
        "years = [2018, 2019, 2020, 2021, 2022]\n",
        "sales_A = [100, 120, 150, 170, 200]\n",
        "sales_B = [90, 110, 130, 160, 190]\n",
        "\n",
        "# Create line plot\n",
        "plt.figure(figsize=(8, 5))\n",
        "plt.plot(years, sales_A, label='Product A', marker='o', color='blue')\n",
        "plt.plot(years, sales_B, label='Product B', marker='s', color='green')\n",
        "\n",
        "# Add labels and title\n",
        "plt.xlabel('Year')\n",
        "plt.ylabel('Sales')\n",
        "plt.title('Sales Comparison Over Years')\n",
        "plt.legend()\n",
        "\n",
        "# Add grid\n",
        "plt.grid(True)\n",
        "\n",
        "# Show plot\n",
        "plt.show()"
      ],
      "metadata": {
        "id": "529XBlBm0ZPX"
      },
      "execution_count": null,
      "outputs": []
    },
    {
      "cell_type": "markdown",
      "source": [
        "9. Generate a Pandas DataFrame and filter rows where a column value is greater than a thresholdA"
      ],
      "metadata": {
        "id": "ZF9yFZkE0brC"
      }
    },
    {
      "cell_type": "code",
      "source": [
        "import pandas as pd\n",
        "\n",
        "# Create the DataFrame\n",
        "data = {\n",
        "    'Name': ['Alice', 'Bob', 'Charlie', 'David', 'Eve'],\n",
        "    'Marks': [85, 67, 90, 72, 88]\n",
        "}\n",
        "\n",
        "df = pd.DataFrame(data)\n",
        "\n",
        "# Set a threshold (e.g., filter students with Marks > 80)\n",
        "threshold = 80\n",
        "filtered_df = df[df['Marks'] > threshold]\n",
        "\n",
        "# Display the filtered DataFrame\n",
        "print(\"Students with marks greater than\", threshold)\n",
        "print(filtered_df)"
      ],
      "metadata": {
        "id": "Tfc9T__O0g_w"
      },
      "execution_count": null,
      "outputs": []
    },
    {
      "cell_type": "markdown",
      "source": [
        "10.  Create a histogram using Seaborn to visualize a distribution"
      ],
      "metadata": {
        "id": "klH7yRfj0j3P"
      }
    },
    {
      "cell_type": "code",
      "source": [
        "import pandas as pd\n",
        "import seaborn as sns\n",
        "import matplotlib.pyplot as plt\n",
        "\n",
        "# Sample data\n",
        "data = {\n",
        "    'Age': [22, 25, 26, 22, 29, 30, 31, 25, 28, 26, 30, 32, 27, 29, 24]\n",
        "}\n",
        "\n",
        "df = pd.DataFrame(data)\n",
        "\n",
        "# Create histogram using Seaborn\n",
        "plt.figure(figsize=(8, 5))\n",
        "sns.histplot(df['Age'], bins=7, kde=True, color='skyblue')\n",
        "\n",
        "# Add labels and title\n",
        "plt.xlabel('Age')\n",
        "plt.ylabel('Frequency')\n",
        "plt.title('Age Distribution Histogram')\n",
        "\n",
        "# Show the plot\n",
        "plt.show()"
      ],
      "metadata": {
        "id": "DumwBI740ozW"
      },
      "execution_count": null,
      "outputs": []
    },
    {
      "cell_type": "markdown",
      "source": [
        "11. A Perform matrix multiplication using NumPy"
      ],
      "metadata": {
        "id": "8buYhi-x0r3e"
      }
    },
    {
      "cell_type": "code",
      "source": [
        "import numpy as np\n",
        "\n",
        "# Define two matrices\n",
        "A = np.array([[1, 2],\n",
        "              [3, 4]])\n",
        "\n",
        "B = np.array([[5, 6],\n",
        "              [7, 8]])\n",
        "\n",
        "# Perform matrix multiplication\n",
        "result = np.dot(A, B)  # or use A @ B\n",
        "\n",
        "# Display the result\n",
        "print(\"Matrix A:\")\n",
        "print(A)\n",
        "print(\"\\nMatrix B:\")\n",
        "print(B)\n",
        "print(\"\\nMatrix Multiplication Result (A x B):\")\n",
        "print(result)"
      ],
      "metadata": {
        "id": "XFF3YnDn0w9o"
      },
      "execution_count": null,
      "outputs": []
    },
    {
      "cell_type": "markdown",
      "source": [
        "12. Use Pandas to load a CSV file and display its first 5 rows"
      ],
      "metadata": {
        "id": "CzySRkWB00Xu"
      }
    },
    {
      "cell_type": "code",
      "source": [
        "import pandas as pd\n",
        "\n",
        "# Load the CSV file into a DataFrame\n",
        "df = pd.read_csv('your_file.csv')  # Replace 'your_file.csv' with the actual path to your file\n",
        "\n",
        "# Display the first 5 rows\n",
        "print(df.head())"
      ],
      "metadata": {
        "id": "0wvQjC2G05J-"
      },
      "execution_count": 4,
      "outputs": []
    },
    {
      "cell_type": "markdown",
      "source": [
        "13. Create a 3D scatter plot using Plotly."
      ],
      "metadata": {
        "id": "U9WxWW6y1RlI"
      }
    },
    {
      "cell_type": "code",
      "source": [
        "import plotly.express as px\n",
        "import pandas as pd\n",
        "\n",
        "# Sample data\n",
        "data = {\n",
        "    'X': [1, 2, 3, 4, 5],\n",
        "    'Y': [5, 4, 3, 2, 1],\n",
        "    'Z': [2, 3, 4, 5, 6]\n",
        "}\n",
        "\n",
        "# Create a DataFrame\n",
        "df = pd.DataFrame(data)\n",
        "\n",
        "# Create a 3D scatter plot\n",
        "fig = px.scatter_3d(df, x='X', y='Y', z='Z', title=\"3D Scatter Plot\")\n",
        "\n",
        "# Show the plot\n",
        "fig.show()"
      ],
      "metadata": {
        "colab": {
          "base_uri": "https://localhost:8080/",
          "height": 542
        },
        "id": "-H9aH3up1ZaR",
        "outputId": "43bdee84-7524-49a6-87ae-5aedfb043d27"
      },
      "execution_count": 5,
      "outputs": [
        {
          "output_type": "display_data",
          "data": {
            "text/html": [
              "<html>\n",
              "<head><meta charset=\"utf-8\" /></head>\n",
              "<body>\n",
              "    <div>            <script src=\"https://cdnjs.cloudflare.com/ajax/libs/mathjax/2.7.5/MathJax.js?config=TeX-AMS-MML_SVG\"></script><script type=\"text/javascript\">if (window.MathJax && window.MathJax.Hub && window.MathJax.Hub.Config) {window.MathJax.Hub.Config({SVG: {font: \"STIX-Web\"}});}</script>                <script type=\"text/javascript\">window.PlotlyConfig = {MathJaxConfig: 'local'};</script>\n",
              "        <script charset=\"utf-8\" src=\"https://cdn.plot.ly/plotly-2.35.2.min.js\"></script>                <div id=\"b6597218-4001-4ae0-b212-842edfed6bc5\" class=\"plotly-graph-div\" style=\"height:525px; width:100%;\"></div>            <script type=\"text/javascript\">                                    window.PLOTLYENV=window.PLOTLYENV || {};                                    if (document.getElementById(\"b6597218-4001-4ae0-b212-842edfed6bc5\")) {                    Plotly.newPlot(                        \"b6597218-4001-4ae0-b212-842edfed6bc5\",                        [{\"hovertemplate\":\"X=%{x}\\u003cbr\\u003eY=%{y}\\u003cbr\\u003eZ=%{z}\\u003cextra\\u003e\\u003c\\u002fextra\\u003e\",\"legendgroup\":\"\",\"marker\":{\"color\":\"#636efa\",\"symbol\":\"circle\"},\"mode\":\"markers\",\"name\":\"\",\"scene\":\"scene\",\"showlegend\":false,\"x\":[1,2,3,4,5],\"y\":[5,4,3,2,1],\"z\":[2,3,4,5,6],\"type\":\"scatter3d\"}],                        {\"template\":{\"data\":{\"histogram2dcontour\":[{\"type\":\"histogram2dcontour\",\"colorbar\":{\"outlinewidth\":0,\"ticks\":\"\"},\"colorscale\":[[0.0,\"#0d0887\"],[0.1111111111111111,\"#46039f\"],[0.2222222222222222,\"#7201a8\"],[0.3333333333333333,\"#9c179e\"],[0.4444444444444444,\"#bd3786\"],[0.5555555555555556,\"#d8576b\"],[0.6666666666666666,\"#ed7953\"],[0.7777777777777778,\"#fb9f3a\"],[0.8888888888888888,\"#fdca26\"],[1.0,\"#f0f921\"]]}],\"choropleth\":[{\"type\":\"choropleth\",\"colorbar\":{\"outlinewidth\":0,\"ticks\":\"\"}}],\"histogram2d\":[{\"type\":\"histogram2d\",\"colorbar\":{\"outlinewidth\":0,\"ticks\":\"\"},\"colorscale\":[[0.0,\"#0d0887\"],[0.1111111111111111,\"#46039f\"],[0.2222222222222222,\"#7201a8\"],[0.3333333333333333,\"#9c179e\"],[0.4444444444444444,\"#bd3786\"],[0.5555555555555556,\"#d8576b\"],[0.6666666666666666,\"#ed7953\"],[0.7777777777777778,\"#fb9f3a\"],[0.8888888888888888,\"#fdca26\"],[1.0,\"#f0f921\"]]}],\"heatmap\":[{\"type\":\"heatmap\",\"colorbar\":{\"outlinewidth\":0,\"ticks\":\"\"},\"colorscale\":[[0.0,\"#0d0887\"],[0.1111111111111111,\"#46039f\"],[0.2222222222222222,\"#7201a8\"],[0.3333333333333333,\"#9c179e\"],[0.4444444444444444,\"#bd3786\"],[0.5555555555555556,\"#d8576b\"],[0.6666666666666666,\"#ed7953\"],[0.7777777777777778,\"#fb9f3a\"],[0.8888888888888888,\"#fdca26\"],[1.0,\"#f0f921\"]]}],\"heatmapgl\":[{\"type\":\"heatmapgl\",\"colorbar\":{\"outlinewidth\":0,\"ticks\":\"\"},\"colorscale\":[[0.0,\"#0d0887\"],[0.1111111111111111,\"#46039f\"],[0.2222222222222222,\"#7201a8\"],[0.3333333333333333,\"#9c179e\"],[0.4444444444444444,\"#bd3786\"],[0.5555555555555556,\"#d8576b\"],[0.6666666666666666,\"#ed7953\"],[0.7777777777777778,\"#fb9f3a\"],[0.8888888888888888,\"#fdca26\"],[1.0,\"#f0f921\"]]}],\"contourcarpet\":[{\"type\":\"contourcarpet\",\"colorbar\":{\"outlinewidth\":0,\"ticks\":\"\"}}],\"contour\":[{\"type\":\"contour\",\"colorbar\":{\"outlinewidth\":0,\"ticks\":\"\"},\"colorscale\":[[0.0,\"#0d0887\"],[0.1111111111111111,\"#46039f\"],[0.2222222222222222,\"#7201a8\"],[0.3333333333333333,\"#9c179e\"],[0.4444444444444444,\"#bd3786\"],[0.5555555555555556,\"#d8576b\"],[0.6666666666666666,\"#ed7953\"],[0.7777777777777778,\"#fb9f3a\"],[0.8888888888888888,\"#fdca26\"],[1.0,\"#f0f921\"]]}],\"surface\":[{\"type\":\"surface\",\"colorbar\":{\"outlinewidth\":0,\"ticks\":\"\"},\"colorscale\":[[0.0,\"#0d0887\"],[0.1111111111111111,\"#46039f\"],[0.2222222222222222,\"#7201a8\"],[0.3333333333333333,\"#9c179e\"],[0.4444444444444444,\"#bd3786\"],[0.5555555555555556,\"#d8576b\"],[0.6666666666666666,\"#ed7953\"],[0.7777777777777778,\"#fb9f3a\"],[0.8888888888888888,\"#fdca26\"],[1.0,\"#f0f921\"]]}],\"mesh3d\":[{\"type\":\"mesh3d\",\"colorbar\":{\"outlinewidth\":0,\"ticks\":\"\"}}],\"scatter\":[{\"fillpattern\":{\"fillmode\":\"overlay\",\"size\":10,\"solidity\":0.2},\"type\":\"scatter\"}],\"parcoords\":[{\"type\":\"parcoords\",\"line\":{\"colorbar\":{\"outlinewidth\":0,\"ticks\":\"\"}}}],\"scatterpolargl\":[{\"type\":\"scatterpolargl\",\"marker\":{\"colorbar\":{\"outlinewidth\":0,\"ticks\":\"\"}}}],\"bar\":[{\"error_x\":{\"color\":\"#2a3f5f\"},\"error_y\":{\"color\":\"#2a3f5f\"},\"marker\":{\"line\":{\"color\":\"#E5ECF6\",\"width\":0.5},\"pattern\":{\"fillmode\":\"overlay\",\"size\":10,\"solidity\":0.2}},\"type\":\"bar\"}],\"scattergeo\":[{\"type\":\"scattergeo\",\"marker\":{\"colorbar\":{\"outlinewidth\":0,\"ticks\":\"\"}}}],\"scatterpolar\":[{\"type\":\"scatterpolar\",\"marker\":{\"colorbar\":{\"outlinewidth\":0,\"ticks\":\"\"}}}],\"histogram\":[{\"marker\":{\"pattern\":{\"fillmode\":\"overlay\",\"size\":10,\"solidity\":0.2}},\"type\":\"histogram\"}],\"scattergl\":[{\"type\":\"scattergl\",\"marker\":{\"colorbar\":{\"outlinewidth\":0,\"ticks\":\"\"}}}],\"scatter3d\":[{\"type\":\"scatter3d\",\"line\":{\"colorbar\":{\"outlinewidth\":0,\"ticks\":\"\"}},\"marker\":{\"colorbar\":{\"outlinewidth\":0,\"ticks\":\"\"}}}],\"scattermapbox\":[{\"type\":\"scattermapbox\",\"marker\":{\"colorbar\":{\"outlinewidth\":0,\"ticks\":\"\"}}}],\"scatterternary\":[{\"type\":\"scatterternary\",\"marker\":{\"colorbar\":{\"outlinewidth\":0,\"ticks\":\"\"}}}],\"scattercarpet\":[{\"type\":\"scattercarpet\",\"marker\":{\"colorbar\":{\"outlinewidth\":0,\"ticks\":\"\"}}}],\"carpet\":[{\"aaxis\":{\"endlinecolor\":\"#2a3f5f\",\"gridcolor\":\"white\",\"linecolor\":\"white\",\"minorgridcolor\":\"white\",\"startlinecolor\":\"#2a3f5f\"},\"baxis\":{\"endlinecolor\":\"#2a3f5f\",\"gridcolor\":\"white\",\"linecolor\":\"white\",\"minorgridcolor\":\"white\",\"startlinecolor\":\"#2a3f5f\"},\"type\":\"carpet\"}],\"table\":[{\"cells\":{\"fill\":{\"color\":\"#EBF0F8\"},\"line\":{\"color\":\"white\"}},\"header\":{\"fill\":{\"color\":\"#C8D4E3\"},\"line\":{\"color\":\"white\"}},\"type\":\"table\"}],\"barpolar\":[{\"marker\":{\"line\":{\"color\":\"#E5ECF6\",\"width\":0.5},\"pattern\":{\"fillmode\":\"overlay\",\"size\":10,\"solidity\":0.2}},\"type\":\"barpolar\"}],\"pie\":[{\"automargin\":true,\"type\":\"pie\"}]},\"layout\":{\"autotypenumbers\":\"strict\",\"colorway\":[\"#636efa\",\"#EF553B\",\"#00cc96\",\"#ab63fa\",\"#FFA15A\",\"#19d3f3\",\"#FF6692\",\"#B6E880\",\"#FF97FF\",\"#FECB52\"],\"font\":{\"color\":\"#2a3f5f\"},\"hovermode\":\"closest\",\"hoverlabel\":{\"align\":\"left\"},\"paper_bgcolor\":\"white\",\"plot_bgcolor\":\"#E5ECF6\",\"polar\":{\"bgcolor\":\"#E5ECF6\",\"angularaxis\":{\"gridcolor\":\"white\",\"linecolor\":\"white\",\"ticks\":\"\"},\"radialaxis\":{\"gridcolor\":\"white\",\"linecolor\":\"white\",\"ticks\":\"\"}},\"ternary\":{\"bgcolor\":\"#E5ECF6\",\"aaxis\":{\"gridcolor\":\"white\",\"linecolor\":\"white\",\"ticks\":\"\"},\"baxis\":{\"gridcolor\":\"white\",\"linecolor\":\"white\",\"ticks\":\"\"},\"caxis\":{\"gridcolor\":\"white\",\"linecolor\":\"white\",\"ticks\":\"\"}},\"coloraxis\":{\"colorbar\":{\"outlinewidth\":0,\"ticks\":\"\"}},\"colorscale\":{\"sequential\":[[0.0,\"#0d0887\"],[0.1111111111111111,\"#46039f\"],[0.2222222222222222,\"#7201a8\"],[0.3333333333333333,\"#9c179e\"],[0.4444444444444444,\"#bd3786\"],[0.5555555555555556,\"#d8576b\"],[0.6666666666666666,\"#ed7953\"],[0.7777777777777778,\"#fb9f3a\"],[0.8888888888888888,\"#fdca26\"],[1.0,\"#f0f921\"]],\"sequentialminus\":[[0.0,\"#0d0887\"],[0.1111111111111111,\"#46039f\"],[0.2222222222222222,\"#7201a8\"],[0.3333333333333333,\"#9c179e\"],[0.4444444444444444,\"#bd3786\"],[0.5555555555555556,\"#d8576b\"],[0.6666666666666666,\"#ed7953\"],[0.7777777777777778,\"#fb9f3a\"],[0.8888888888888888,\"#fdca26\"],[1.0,\"#f0f921\"]],\"diverging\":[[0,\"#8e0152\"],[0.1,\"#c51b7d\"],[0.2,\"#de77ae\"],[0.3,\"#f1b6da\"],[0.4,\"#fde0ef\"],[0.5,\"#f7f7f7\"],[0.6,\"#e6f5d0\"],[0.7,\"#b8e186\"],[0.8,\"#7fbc41\"],[0.9,\"#4d9221\"],[1,\"#276419\"]]},\"xaxis\":{\"gridcolor\":\"white\",\"linecolor\":\"white\",\"ticks\":\"\",\"title\":{\"standoff\":15},\"zerolinecolor\":\"white\",\"automargin\":true,\"zerolinewidth\":2},\"yaxis\":{\"gridcolor\":\"white\",\"linecolor\":\"white\",\"ticks\":\"\",\"title\":{\"standoff\":15},\"zerolinecolor\":\"white\",\"automargin\":true,\"zerolinewidth\":2},\"scene\":{\"xaxis\":{\"backgroundcolor\":\"#E5ECF6\",\"gridcolor\":\"white\",\"linecolor\":\"white\",\"showbackground\":true,\"ticks\":\"\",\"zerolinecolor\":\"white\",\"gridwidth\":2},\"yaxis\":{\"backgroundcolor\":\"#E5ECF6\",\"gridcolor\":\"white\",\"linecolor\":\"white\",\"showbackground\":true,\"ticks\":\"\",\"zerolinecolor\":\"white\",\"gridwidth\":2},\"zaxis\":{\"backgroundcolor\":\"#E5ECF6\",\"gridcolor\":\"white\",\"linecolor\":\"white\",\"showbackground\":true,\"ticks\":\"\",\"zerolinecolor\":\"white\",\"gridwidth\":2}},\"shapedefaults\":{\"line\":{\"color\":\"#2a3f5f\"}},\"annotationdefaults\":{\"arrowcolor\":\"#2a3f5f\",\"arrowhead\":0,\"arrowwidth\":1},\"geo\":{\"bgcolor\":\"white\",\"landcolor\":\"#E5ECF6\",\"subunitcolor\":\"white\",\"showland\":true,\"showlakes\":true,\"lakecolor\":\"white\"},\"title\":{\"x\":0.05},\"mapbox\":{\"style\":\"light\"}}},\"scene\":{\"domain\":{\"x\":[0.0,1.0],\"y\":[0.0,1.0]},\"xaxis\":{\"title\":{\"text\":\"X\"}},\"yaxis\":{\"title\":{\"text\":\"Y\"}},\"zaxis\":{\"title\":{\"text\":\"Z\"}}},\"legend\":{\"tracegroupgap\":0},\"title\":{\"text\":\"3D Scatter Plot\"}},                        {\"responsive\": true}                    ).then(function(){\n",
              "                            \n",
              "var gd = document.getElementById('b6597218-4001-4ae0-b212-842edfed6bc5');\n",
              "var x = new MutationObserver(function (mutations, observer) {{\n",
              "        var display = window.getComputedStyle(gd).display;\n",
              "        if (!display || display === 'none') {{\n",
              "            console.log([gd, 'removed!']);\n",
              "            Plotly.purge(gd);\n",
              "            observer.disconnect();\n",
              "        }}\n",
              "}});\n",
              "\n",
              "// Listen for the removal of the full notebook cells\n",
              "var notebookContainer = gd.closest('#notebook-container');\n",
              "if (notebookContainer) {{\n",
              "    x.observe(notebookContainer, {childList: true});\n",
              "}}\n",
              "\n",
              "// Listen for the clearing of the current output cell\n",
              "var outputEl = gd.closest('.output');\n",
              "if (outputEl) {{\n",
              "    x.observe(outputEl, {childList: true});\n",
              "}}\n",
              "\n",
              "                        })                };                            </script>        </div>\n",
              "</body>\n",
              "</html>"
            ]
          },
          "metadata": {}
        }
      ]
    },
    {
      "cell_type": "markdown",
      "source": [
        "# **thanks**\n"
      ],
      "metadata": {
        "id": "XerCR83Q4oam"
      }
    }
  ]
}